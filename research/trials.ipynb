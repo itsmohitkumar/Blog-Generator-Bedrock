{
 "cells": [
  {
   "cell_type": "markdown",
   "metadata": {},
   "source": [
    "#### Part 1: Install and Import Dependencies"
   ]
  },
  {
   "cell_type": "code",
   "execution_count": null,
   "metadata": {},
   "outputs": [],
   "source": [
    "# Install boto3 if not already installed\n",
    "%pip install boto3 botocore"
   ]
  },
  {
   "cell_type": "code",
   "execution_count": null,
   "metadata": {},
   "outputs": [],
   "source": [
    "# Import the necessary libraries\n",
    "import boto3\n",
    "import botocore.config\n",
    "import json\n",
    "from datetime import datetime"
   ]
  },
  {
   "cell_type": "markdown",
   "metadata": {},
   "source": [
    "#### Part 2: Function to Generate Quotes"
   ]
  },
  {
   "cell_type": "code",
   "execution_count": null,
   "metadata": {},
   "outputs": [],
   "source": [
    "def quote_generate_using_bedrock(topic: str) -> str:\n",
    "    \"\"\"Generates a quote using Bedrock.\"\"\"\n",
    "    \n",
    "    prompt = f\"\"\"<s>[INST]Human: Provide a motivational quote on the topic \"{topic}\".\n",
    "    Assistant:[/INST]\n",
    "    \"\"\"\n",
    "    \n",
    "    body = {\n",
    "        \"prompt\": prompt,\n",
    "        \"max_gen_len\": 128,  # Reduced length since quotes are shorter\n",
    "        \"temperature\": 0.7,  # Slightly increased for more creative outputs\n",
    "        \"top_p\": 0.9\n",
    "    }\n",
    "\n",
    "    try:\n",
    "        bedrock = boto3.client(\n",
    "            \"bedrock-runtime\", \n",
    "            region_name=\"us-east-1\",\n",
    "            config=botocore.config.Config(\n",
    "                read_timeout=300, \n",
    "                retries={'max_attempts': 3}\n",
    "            )\n",
    "        )\n",
    "        response = bedrock.invoke_model(\n",
    "            body=json.dumps(body), \n",
    "            modelId=\"meta.llama2-13b-chat-v1\"\n",
    "        )\n",
    "\n",
    "        response_content = response.get('body').read()\n",
    "        response_data = json.loads(response_content)\n",
    "        quote = response_data.get('generation', '')\n",
    "        \n",
    "        if quote:\n",
    "            return quote\n",
    "        else:\n",
    "            raise ValueError(\"No quote content in the response.\")\n",
    "    \n",
    "    except Exception as e:\n",
    "        print(f\"Error generating the quote: {e}\")\n",
    "        return \"\""
   ]
  },
  {
   "cell_type": "code",
   "execution_count": 1,
   "metadata": {},
   "outputs": [
    {
     "data": {
      "text/plain": [
       "'\\ngenerated_quote = quote_generate_using_bedrock(topic=\"success\")\\nprint(generated_quote)\\n'"
      ]
     },
     "execution_count": 1,
     "metadata": {},
     "output_type": "execute_result"
    }
   ],
   "source": [
    "# Test the quote generation function\n",
    "'''\n",
    "generated_quote = quote_generate_using_bedrock(topic=\"success\")\n",
    "print(generated_quote)\n",
    "'''"
   ]
  },
  {
   "cell_type": "markdown",
   "metadata": {},
   "source": [
    "#### Part 3: Function to Save Quote to S3"
   ]
  },
  {
   "cell_type": "code",
   "execution_count": null,
   "metadata": {},
   "outputs": [],
   "source": [
    "def save_quote_to_s3(s3_key: str, s3_bucket: str, quote: str) -> None:\n",
    "    \"\"\"Saves the generated quote to an S3 bucket.\"\"\"\n",
    "    \n",
    "    s3 = boto3.client('s3')\n",
    "\n",
    "    try:\n",
    "        s3.put_object(Bucket=s3_bucket, Key=s3_key, Body=quote)\n",
    "        print(\"Quote saved to S3 successfully.\")\n",
    "    \n",
    "    except Exception as e:\n",
    "        print(f\"Error saving the quote to S3: {e}\")"
   ]
  },
  {
   "cell_type": "code",
   "execution_count": null,
   "metadata": {},
   "outputs": [],
   "source": [
    "##### Test saving to S3 by running:\n",
    "'''\n",
    "#Save the generated quote to S3\n",
    "if generated_quote:\n",
    "    current_time = datetime.now().strftime('%H%M%S')\n",
    "    s3_key = f\"quote-output/{current_time}.txt\"\n",
    "    s3_bucket = 'aws_bedrock_course1'  # Replace with your actual bucket\n",
    "    save_quote_to_s3(s3_key, s3_bucket, generated_quote)\n",
    "'''"
   ]
  },
  {
   "cell_type": "markdown",
   "metadata": {},
   "source": [
    "#### Part 4: Lambda Handler Function for Integration"
   ]
  },
  {
   "cell_type": "code",
   "execution_count": null,
   "metadata": {},
   "outputs": [],
   "source": [
    "def lambda_handler(event, context):\n",
    "    \"\"\"Simulates AWS Lambda handler to generate a quote and save it to S3.\"\"\"\n",
    "    \n",
    "    try:\n",
    "        event_data = json.loads(event['body'])\n",
    "        topic = event_data['topic']  # Expecting \"topic\" in the input\n",
    "        \n",
    "        generated_quote = quote_generate_using_bedrock(topic=topic)\n",
    "\n",
    "        if generated_quote:\n",
    "            current_time = datetime.now().strftime('%H%M%S')\n",
    "            s3_key = f\"quote-output/{current_time}.txt\"\n",
    "            s3_bucket = 'aws_bedrock_course1'  # Replace with your actual bucket\n",
    "            \n",
    "            save_quote_to_s3(s3_key, s3_bucket, generated_quote)\n",
    "        \n",
    "        else:\n",
    "            print(\"No quote was generated.\")\n",
    "        \n",
    "        return {\n",
    "            'statusCode': 200,\n",
    "            'body': json.dumps('Quote generation completed successfully.')\n",
    "        }\n",
    "\n",
    "    except KeyError as e:\n",
    "        print(f\"Key error: {e}\")\n",
    "        return {\n",
    "            'statusCode': 400,\n",
    "            'body': json.dumps(f\"Invalid input data: {e}\")\n",
    "        }\n",
    "    \n",
    "    except Exception as e:\n",
    "        print(f\"Unexpected error: {e}\")\n",
    "        return {\n",
    "            'statusCode': 500,\n",
    "            'body': json.dumps('An error occurred during quote generation.')\n",
    "        }"
   ]
  },
  {
   "cell_type": "code",
   "execution_count": null,
   "metadata": {},
   "outputs": [],
   "source": [
    "# Simulate an event for lambda handler\n",
    "'''\n",
    "mock_event = {\n",
    "    'body': json.dumps({'topic': 'perseverance'})\n",
    "}\n",
    "\n",
    "# Test the lambda handler function\n",
    "lambda_handler(mock_event, None)\n",
    "'''"
   ]
  }
 ],
 "metadata": {
  "kernelspec": {
   "display_name": ".venv",
   "language": "python",
   "name": "python3"
  },
  "language_info": {
   "codemirror_mode": {
    "name": "ipython",
    "version": 3
   },
   "file_extension": ".py",
   "mimetype": "text/x-python",
   "name": "python",
   "nbconvert_exporter": "python",
   "pygments_lexer": "ipython3",
   "version": "3.11.6"
  }
 },
 "nbformat": 4,
 "nbformat_minor": 2
}
